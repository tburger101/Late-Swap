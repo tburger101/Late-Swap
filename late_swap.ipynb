{
  "nbformat": 4,
  "nbformat_minor": 0,
  "metadata": {
    "colab": {
      "name": "late_swap.ipynb",
      "provenance": [],
      "collapsed_sections": [],
      "authorship_tag": "ABX9TyPJ1H73pKSsEXoBcDRbraE1",
      "include_colab_link": true
    },
    "kernelspec": {
      "name": "python3",
      "display_name": "Python 3"
    },
    "language_info": {
      "name": "python"
    }
  },
  "cells": [
    {
      "cell_type": "markdown",
      "metadata": {
        "id": "view-in-github",
        "colab_type": "text"
      },
      "source": [
        "<a href=\"https://colab.research.google.com/github/tburger101/Late-Swap/blob/main/late_swap.ipynb\" target=\"_parent\"><img src=\"https://colab.research.google.com/assets/colab-badge.svg\" alt=\"Open In Colab\"/></a>"
      ]
    },
    {
      "cell_type": "code",
      "metadata": {
        "id": "xNMeSB3S_TA1"
      },
      "source": [
        "import pandas as pd, numpy as np, seaborn as sns\n",
        "import matplotlib.pyplot as plt\n",
        "from sklearn.compose import ColumnTransformer\n",
        "from scipy import stats\n",
        "from sklearn.ensemble import RandomForestClassifier, GradientBoostingClassifier\n",
        "from sklearn.model_selection import train_test_split, cross_val_score, GridSearchCV\n",
        "from sklearn import metrics\n",
        "from sklearn.feature_selection import RFECV\n",
        "from sklearn.linear_model import LogisticRegression\n",
        "from sklearn.preprocessing import StandardScaler, OneHotEncoder\n",
        "from sklearn.pipeline import Pipeline"
      ],
      "execution_count": 16,
      "outputs": []
    },
    {
      "cell_type": "markdown",
      "metadata": {
        "id": "SEGHfFbrJLCt"
      },
      "source": [
        "## **Loading and transforming data**"
      ]
    },
    {
      "cell_type": "code",
      "metadata": {
        "id": "7VEb7wle_WFf"
      },
      "source": [
        "'''Load the data from the 2019 and 2020 season'''\n",
        "\n",
        "df_2019=pd.read_csv(\"/content/2019_late_swap_history.csv\")\n",
        "df_2020=pd.read_csv(\"/content/2020_late_swap_history.csv\")\n",
        "df=pd.concat([df_2019, df_2020])"
      ],
      "execution_count": 4,
      "outputs": []
    },
    {
      "cell_type": "code",
      "metadata": {
        "id": "KmMAChClAJHw"
      },
      "source": [
        "'''Create predicted rank bins so it is easier to analyze by segment'''\n",
        "\n",
        "df['pred_rank_bin']=pd.cut(df['pred_perc'], [(x*5)/100 for x in range (0,5)])\n",
        "df['final_rank_bin']=pd.cut(df['actual_perc'], [(x)/100 for x in range (0,101)])"
      ],
      "execution_count": 5,
      "outputs": []
    },
    {
      "cell_type": "markdown",
      "metadata": {
        "id": "6QNukKvBJgf8"
      },
      "source": [
        "## **Data Exploration**"
      ]
    },
    {
      "cell_type": "code",
      "metadata": {
        "colab": {
          "base_uri": "https://localhost:8080/"
        },
        "id": "Wmx_95QtrwHv",
        "outputId": "9c001e84-955d-4a76-8c3f-81f62dbee7c0"
      },
      "source": [
        "'''Breakdown by percentage of where the Top 10 actual finishers are predicted to finish after the morning games.\n",
        "84% of top 10 finishers come from pred rank of 0-.5%.'''\n",
        "\n",
        "df[df['final_rank']<=10].groupby('pred_rank_bin')['entry_id'].count()/len(df[df['final_rank']<=10])\n",
        "#a.plot.bar(figsize=(10,5))"
      ],
      "execution_count": 6,
      "outputs": [
        {
          "output_type": "execute_result",
          "data": {
            "text/plain": [
              "pred_rank_bin\n",
              "(0.0, 0.05]    0.840909\n",
              "(0.05, 0.1]    0.068182\n",
              "(0.1, 0.15]    0.038961\n",
              "(0.15, 0.2]    0.029221\n",
              "Name: entry_id, dtype: float64"
            ]
          },
          "metadata": {
            "tags": []
          },
          "execution_count": 6
        }
      ]
    },
    {
      "cell_type": "code",
      "metadata": {
        "colab": {
          "base_uri": "https://localhost:8080/",
          "height": 466
        },
        "id": "Ip-x_d13mu-5",
        "outputId": "60bb8c0b-e311-4051-84ce-7bc48a73c321"
      },
      "source": [
        "'''Breakdown of how players remaining affect the likelihood of a top 10 finish in the top 5 predicted percent.'''\n",
        "\n",
        "top_5=df[(df['pred_perc']<=.05) ]\n",
        "pd.crosstab(columns=top_5['top_10'], index=top_5['remaining_players'], \n",
        "            values='entry_id', aggfunc='count', normalize='columns').plot.bar(figsize=(15,7))"
      ],
      "execution_count": 9,
      "outputs": [
        {
          "output_type": "execute_result",
          "data": {
            "text/plain": [
              "<matplotlib.axes._subplots.AxesSubplot at 0x7f5099873210>"
            ]
          },
          "metadata": {
            "tags": []
          },
          "execution_count": 9
        },
        {
          "output_type": "display_data",
          "data": {
            "image/png": "[encoded data removed]",
            "text/plain": [
              "<Figure size 1080x504 with 1 Axes>"
            ]
          },
          "metadata": {
            "tags": [],
            "needs_background": "light"
          }
        }
      ]
    },
    {
      "cell_type": "code",
      "metadata": {
        "colab": {
          "base_uri": "https://localhost:8080/",
          "height": 470
        },
        "id": "eWXDp0beIydA",
        "outputId": "07fb5b78-d229-407b-e848-a444d1f88b92"
      },
      "source": [
        "'''Breakdown of how players remaining affect the likelihood of a top 10 finish in the top 5 predicted percent.'''\n",
        "\n",
        "top_5=df[(df['pred_perc']>.05) & (df['pred_perc']<=.10)]\n",
        "pd.crosstab(columns=top_5['top_10'], index=top_5['remaining_players'], \n",
        "            values='entry_id', aggfunc='count', normalize='columns').plot.bar(figsize=(15,7))"
      ],
      "execution_count": 8,
      "outputs": [
        {
          "output_type": "execute_result",
          "data": {
            "text/plain": [
              "<matplotlib.axes._subplots.AxesSubplot at 0x7f5099d7b310>"
            ]
          },
          "metadata": {
            "tags": []
          },
          "execution_count": 8
        },
        {
          "output_type": "display_data",
          "data": {
            "image/png": "[encoded data removed]",
            "text/plain": [
              "<Figure size 1080x504 with 1 Axes>"
            ]
          },
          "metadata": {
            "tags": [],
            "needs_background": "light"
          }
        }
      ]
    },
    {
      "cell_type": "code",
      "metadata": {
        "colab": {
          "base_uri": "https://localhost:8080/",
          "height": 458
        },
        "id": "OuglHm5buyea",
        "outputId": "8216134b-5fe2-4b10-c8ef-eeb0837974f6"
      },
      "source": [
        "'''How often was the chalk played in the afternoon games of the Top 10 Finishers and where they stood after the morning slate of games'''\n",
        "\n",
        "import matplotlib.pyplot as plt\n",
        "''' To get in the top .1% as your team starts slower you have to get different in order to get there'''\n",
        "qb_chalk=df[(df['top_10']==1)& ((df['qbs']==1)) ].groupby('pred_rank_bin')['chalk_qb'].mean()\n",
        "wr_chalk=df[(df['top_10']==1)& ((df['wrs']>=1)) ].groupby('pred_rank_bin')['chalk_wr'].mean()\n",
        "rb_chalk=df[(df['top_10']==1)& ((df['rbs']>=1))].groupby('pred_rank_bin')['chalk_rb'].mean()\n",
        "\n",
        "plt.figure(figsize=(15,7))\n",
        "plt.plot([.05, .1, .15, .2],qb_chalk.values,  label = \"qb_chalk\")\n",
        "plt.plot([.05, .1, .15, .2],wr_chalk.values,  label = \"wr_chalk\")\n",
        "plt.plot([.05, .1, .15, .2],rb_chalk.values, label = \"rb_chalk\")\n",
        "\n",
        "plt.ylabel('Perc Chalk')\n",
        "plt.xlabel('Pred Percentile')\n",
        "plt.title('Chalk Perc and Pred Percentile')\n",
        "# show a legend on the plot\n",
        "plt.legend()\n",
        "# Display a figure.\n",
        "plt.show()"
      ],
      "execution_count": 15,
      "outputs": [
        {
          "output_type": "display_data",
          "data": {
            "image/png": "[encoded data removed]",
            "text/plain": [
              "<Figure size 1080x504 with 1 Axes>"
            ]
          },
          "metadata": {
            "tags": [],
            "needs_background": "light"
          }
        }
      ]
    },
    {
      "cell_type": "code",
      "metadata": {
        "colab": {
          "base_uri": "https://localhost:8080/",
          "height": 522
        },
        "id": "kr8t4JfFPNQF",
        "outputId": "16002bf6-dd47-4869-bc28-5f7a304cb5d8"
      },
      "source": [
        "'''Optimal stack construction for top top 5 predicted percent'''\n",
        "\n",
        "qb_df=df[(df['pred_perc']<=.05) & (df['qbs']==1) & (df['remaining_players']>=3)]\n",
        "pd.crosstab(columns=qb_df['top_10'], index=qb_df['stack'],\n",
        "            values='entry_id', aggfunc='count', normalize='columns').plot.bar(figsize=(15, 8))"
      ],
      "execution_count": 46,
      "outputs": [
        {
          "output_type": "execute_result",
          "data": {
            "text/plain": [
              "<matplotlib.axes._subplots.AxesSubplot at 0x7f960b4f00d0>"
            ]
          },
          "metadata": {
            "tags": []
          },
          "execution_count": 46
        },
        {
          "output_type": "display_data",
          "data": {
            "image/png": "[encoded data removed]",
            "text/plain": [
              "<Figure size 1080x576 with 1 Axes>"
            ]
          },
          "metadata": {
            "tags": [],
            "needs_background": "light"
          }
        }
      ]
    },
    {
      "cell_type": "markdown",
      "metadata": {
        "id": "xs1WvTUbOL7O"
      },
      "source": [
        "## **Data Pre-Processing**"
      ]
    },
    {
      "cell_type": "code",
      "metadata": {
        "id": "eBVSS9rEOLkP"
      },
      "source": [
        "def numerical_cat_variables(df):\n",
        "    '''\n",
        "    Input: DataFrame\n",
        "    Outputs: A list of category columns vs list of numerical columns\n",
        "    \n",
        "    '''\n",
        "    numerical=[]\n",
        "    cat=[]\n",
        "    for column, data_type in zip(df.columns, df.dtypes):\n",
        "        if data_type=='object' or data_type=='uint8':\n",
        "            cat.append(column)\n",
        "        else:\n",
        "            numerical.append(column)\n",
        "    return(cat, numerical)"
      ],
      "execution_count": 17,
      "outputs": []
    },
    {
      "cell_type": "code",
      "metadata": {
        "colab": {
          "base_uri": "https://localhost:8080/"
        },
        "id": "vdFQWD68SO_-",
        "outputId": "5732a9b2-dfc8-4d20-edd5-bfd09dec53a9"
      },
      "source": [
        "'''\n",
        "Narrowing down to useful columns and check for null values\n",
        "'''\n",
        "final_df=df[['salary_remaining', 'pred_perc', 'chalk_rb', 'chalk_wr', 'chalk_te', 'chalk_qb', \n",
        "'qbs', 'rbs', 'wrs', 'te', 'qb_stack',\t'qb_opp_stack', 'top_10']]\n",
        "\n",
        "final_df.count()/final_df.shape[0]"
      ],
      "execution_count": 29,
      "outputs": [
        {
          "output_type": "execute_result",
          "data": {
            "text/plain": [
              "salary_remaining    0.998896\n",
              "pred_perc           0.998896\n",
              "chalk_rb            1.000000\n",
              "chalk_wr            1.000000\n",
              "chalk_te            1.000000\n",
              "chalk_qb            1.000000\n",
              "qbs                 1.000000\n",
              "rbs                 1.000000\n",
              "wrs                 1.000000\n",
              "te                  1.000000\n",
              "qb_stack            1.000000\n",
              "qb_opp_stack        1.000000\n",
              "top_10              1.000000\n",
              "dtype: float64"
            ]
          },
          "metadata": {
            "tags": []
          },
          "execution_count": 29
        }
      ]
    },
    {
      "cell_type": "code",
      "metadata": {
        "colab": {
          "base_uri": "https://localhost:8080/"
        },
        "id": "8U-Hw1baTha0",
        "outputId": "04745b3e-cc4b-42c8-954e-498c7738b31d"
      },
      "source": [
        "'''\n",
        "Removing rows with N/As\n",
        "'''\n",
        "final_df.dropna( how=\"any\", inplace=True)\n"
      ],
      "execution_count": 31,
      "outputs": [
        {
          "output_type": "stream",
          "text": [
            "/usr/local/lib/python3.7/dist-packages/ipykernel_launcher.py:4: SettingWithCopyWarning: \n",
            "A value is trying to be set on a copy of a slice from a DataFrame\n",
            "\n",
            "See the caveats in the documentation: https://pandas.pydata.org/pandas-docs/stable/user_guide/indexing.html#returning-a-view-versus-a-copy\n",
            "  after removing the cwd from sys.path.\n"
          ],
          "name": "stderr"
        }
      ]
    },
    {
      "cell_type": "code",
      "metadata": {
        "id": "H1yzasNIPUiA"
      },
      "source": [
        "'''\n",
        "Breaking the final dataframe up into training and testing sets\n",
        "'''\n",
        "\n",
        "y=final_df['top_10']\n",
        "x=final_df.drop('top_10', axis=1)\n",
        "x_train, x_test, y_train, y_test = train_test_split(x, y, test_size=0.3, random_state=1)"
      ],
      "execution_count": 32,
      "outputs": []
    },
    {
      "cell_type": "code",
      "metadata": {
        "id": "WyJIIGniOvMP"
      },
      "source": [
        "'''\n",
        "We created a column transformer used to scale numerical columns in our pipeline.  Used below site for reference:\n",
        "https://machinelearningmastery.com/columntransformer-for-numerical-and-categorical-data/\n",
        "'''\n",
        "\n",
        "cat_variables, num_variables=numerical_cat_variables(x)\n",
        "t = [('num', StandardScaler(), num_variables)]\n",
        "col_transform = ColumnTransformer(transformers=t, remainder='passthrough')"
      ],
      "execution_count": 33,
      "outputs": []
    },
    {
      "cell_type": "markdown",
      "metadata": {
        "id": "bsAWenpeWK3k"
      },
      "source": [
        "## **Modeling**"
      ]
    },
    {
      "cell_type": "code",
      "metadata": {
        "id": "dPfW6IDIO0jX"
      },
      "source": [
        "'''\n",
        "Preparing a gridsearch parameters to optimize best model\n",
        "'''\n",
        "\n",
        "pipeline=Pipeline([('t', col_transform), ('clf', RandomForestClassifier(class_weight='balanced', n_jobs=-1))])\n",
        "dec_param_grid = { \"clf__max_depth\": [2,3,4],  \"clf__n_estimators\": [10, 50, 100],\n",
        "                 \"clf__max_features\": ['auto','log2']}\n",
        "clf_grid=GridSearchCV(pipeline, param_grid=dec_param_grid, scoring='roc_auc', n_jobs=-1, cv=3)"
      ],
      "execution_count": 34,
      "outputs": []
    },
    {
      "cell_type": "code",
      "metadata": {
        "id": "UDecIGE1RIZn"
      },
      "source": [
        "'''\n",
        "Fitting the gridsearch model and finding the best estimator\n",
        "'''\n",
        "\n",
        "clf_grid.fit(x_train,y_train)\n",
        "clf=clf_grid.best_estimator_"
      ],
      "execution_count": 35,
      "outputs": []
    },
    {
      "cell_type": "code",
      "metadata": {
        "colab": {
          "base_uri": "https://localhost:8080/",
          "height": 418
        },
        "id": "QpbRBXp9VKB8",
        "outputId": "3b2688dc-0b44-4f92-afbc-21b47e0275b9"
      },
      "source": [
        "\n",
        "'''\n",
        "The top 20 most important features\n",
        "'''\n",
        "\n",
        "importances=clf[1].feature_importances_\n",
        "feature_importances=[]\n",
        "for column, feature in zip(x_train.columns, importances):\n",
        "    feature_importances.append([column, feature])\n",
        "    \n",
        "pd.DataFrame(feature_importances, columns=['feature', 'importance']).sort_values(by='importance', ascending=False).head(20)"
      ],
      "execution_count": 36,
      "outputs": [
        {
          "output_type": "execute_result",
          "data": {
            "text/html": [
              "<div>\n",
              "<style scoped>\n",
              "    .dataframe tbody tr th:only-of-type {\n",
              "        vertical-align: middle;\n",
              "    }\n",
              "\n",
              "    .dataframe tbody tr th {\n",
              "        vertical-align: top;\n",
              "    }\n",
              "\n",
              "    .dataframe thead th {\n",
              "        text-align: right;\n",
              "    }\n",
              "</style>\n",
              "<table border=\"1\" class=\"dataframe\">\n",
              "  <thead>\n",
              "    <tr style=\"text-align: right;\">\n",
              "      <th></th>\n",
              "      <th>feature</th>\n",
              "      <th>importance</th>\n",
              "    </tr>\n",
              "  </thead>\n",
              "  <tbody>\n",
              "    <tr>\n",
              "      <th>1</th>\n",
              "      <td>pred_perc</td>\n",
              "      <td>0.775284</td>\n",
              "    </tr>\n",
              "    <tr>\n",
              "      <th>0</th>\n",
              "      <td>salary_remaining</td>\n",
              "      <td>0.064179</td>\n",
              "    </tr>\n",
              "    <tr>\n",
              "      <th>8</th>\n",
              "      <td>wrs</td>\n",
              "      <td>0.047562</td>\n",
              "    </tr>\n",
              "    <tr>\n",
              "      <th>7</th>\n",
              "      <td>rbs</td>\n",
              "      <td>0.022706</td>\n",
              "    </tr>\n",
              "    <tr>\n",
              "      <th>11</th>\n",
              "      <td>qb_opp_stack</td>\n",
              "      <td>0.021847</td>\n",
              "    </tr>\n",
              "    <tr>\n",
              "      <th>3</th>\n",
              "      <td>chalk_wr</td>\n",
              "      <td>0.016326</td>\n",
              "    </tr>\n",
              "    <tr>\n",
              "      <th>10</th>\n",
              "      <td>qb_stack</td>\n",
              "      <td>0.012991</td>\n",
              "    </tr>\n",
              "    <tr>\n",
              "      <th>4</th>\n",
              "      <td>chalk_te</td>\n",
              "      <td>0.011642</td>\n",
              "    </tr>\n",
              "    <tr>\n",
              "      <th>6</th>\n",
              "      <td>qbs</td>\n",
              "      <td>0.008919</td>\n",
              "    </tr>\n",
              "    <tr>\n",
              "      <th>9</th>\n",
              "      <td>te</td>\n",
              "      <td>0.006770</td>\n",
              "    </tr>\n",
              "    <tr>\n",
              "      <th>5</th>\n",
              "      <td>chalk_qb</td>\n",
              "      <td>0.006676</td>\n",
              "    </tr>\n",
              "    <tr>\n",
              "      <th>2</th>\n",
              "      <td>chalk_rb</td>\n",
              "      <td>0.005096</td>\n",
              "    </tr>\n",
              "  </tbody>\n",
              "</table>\n",
              "</div>"
            ],
            "text/plain": [
              "             feature  importance\n",
              "1          pred_perc    0.775284\n",
              "0   salary_remaining    0.064179\n",
              "8                wrs    0.047562\n",
              "7                rbs    0.022706\n",
              "11      qb_opp_stack    0.021847\n",
              "3           chalk_wr    0.016326\n",
              "10          qb_stack    0.012991\n",
              "4           chalk_te    0.011642\n",
              "6                qbs    0.008919\n",
              "9                 te    0.006770\n",
              "5           chalk_qb    0.006676\n",
              "2           chalk_rb    0.005096"
            ]
          },
          "metadata": {
            "tags": []
          },
          "execution_count": 36
        }
      ]
    }
  ]
}